{
  "nbformat": 4,
  "nbformat_minor": 0,
  "metadata": {
    "colab": {
      "provenance": [],
      "include_colab_link": true
    },
    "kernelspec": {
      "name": "python3",
      "display_name": "Python 3"
    },
    "language_info": {
      "name": "python"
    }
  },
  "cells": [
    {
      "cell_type": "markdown",
      "metadata": {
        "id": "view-in-github",
        "colab_type": "text"
      },
      "source": [
        "<a href=\"https://colab.research.google.com/github/leoscarlato/math-language-project/blob/main/Projeto_Linguagem.ipynb\" target=\"_parent\"><img src=\"https://colab.research.google.com/assets/colab-badge.svg\" alt=\"Open In Colab\"/></a>"
      ]
    },
    {
      "cell_type": "markdown",
      "source": [
        "NOME da linguagem: **{mat}**\n",
        "\n",
        "POR: Alexandre Magno e Leonardo Scarlato\n",
        "\n",
        "\n",
        "**{mat}** consiste em uma linguagem de programação interpretada, com a finalidade de facilitar a escrita em português de operações matemáticas. Nesta linguagem, há palavras reservadas que representam operações que proximam a dialética matemática oral com o código. Assim, proporciando um espaço mais amigavél para estudos de ambas ciencias.\n",
        "\n",
        "O público alvo dessa linguagem são de jovens no estágio de desenvolvimento do estudo matemático e de programação.\n",
        "\n",
        "**{mat}** lidará com números pertencentes ao conjunto dos Racionais(Q). Contudo, na linguagem, trabalha-se com a separação entre inteiros (int) e fracionarios (float)."
      ],
      "metadata": {
        "id": "PKAARIKwT17X"
      }
    },
    {
      "cell_type": "code",
      "source": [
        "!pip install rply"
      ],
      "metadata": {
        "id": "qowVrPwCZiz_",
        "colab": {
          "base_uri": "https://localhost:8080/"
        },
        "outputId": "39d7501e-882f-4860-de64-114ee091dffd"
      },
      "execution_count": null,
      "outputs": [
        {
          "output_type": "stream",
          "name": "stdout",
          "text": [
            "Collecting rply\n",
            "  Downloading rply-0.7.8-py2.py3-none-any.whl (16 kB)\n",
            "Requirement already satisfied: appdirs in /usr/local/lib/python3.10/dist-packages (from rply) (1.4.4)\n",
            "Installing collected packages: rply\n",
            "Successfully installed rply-0.7.8\n"
          ]
        }
      ]
    },
    {
      "cell_type": "code",
      "execution_count": null,
      "metadata": {
        "id": "xDCe4OOtS8Nz"
      },
      "outputs": [],
      "source": [
        "# Analisador Lexico\n",
        "\n",
        "from rply import LexerGenerator\n",
        "\n",
        "lg = LexerGenerator()\n",
        "\n",
        "lg.add(\"NUMBER\", r\"\\d+\")\n",
        "lg.add(\"PLUS\", r\"+\")\n",
        "lg.add(\"MINUS\", r\"-\")\n",
        "lg.add(\"MUL\", r\"*\")\n",
        "lg.add(\"DIV\", r\"/\")\n",
        "lg.add(\"ROOT\", r\"raiz_de\")\n",
        "lg.add(\"POW\", r\"elevado\")\n",
        "lg.add(\"FACT\", r\"fatorial\")\n",
        "lg.add(\"PI\", r\"pi\")\n",
        "lg.add(\"SIN\", r\"seno\")\n",
        "lg.add(\"COS\", r\"cosseno\")\n",
        "lg.add(\"TAN\", r\"tangente\")\n"
      ]
    },
    {
      "cell_type": "code",
      "source": [
        "# Analisador Sintatico"
      ],
      "metadata": {
        "id": "Jh0-pFhBZHo7"
      },
      "execution_count": null,
      "outputs": []
    },
    {
      "cell_type": "code",
      "source": [],
      "metadata": {
        "id": "bTShKu3wZSXB"
      },
      "execution_count": null,
      "outputs": []
    }
  ]
}