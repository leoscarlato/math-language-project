{
  "cells": [
    {
      "cell_type": "markdown",
      "metadata": {
        "colab_type": "text",
        "id": "view-in-github"
      },
      "source": [
        "<a href=\"https://colab.research.google.com/github/leoscarlato/math-language-project/blob/main/Projeto_Linguagem.ipynb\" target=\"_parent\"><img src=\"https://colab.research.google.com/assets/colab-badge.svg\" alt=\"Open In Colab\"/></a>"
      ]
    },
    {
      "cell_type": "markdown",
      "metadata": {
        "id": "PKAARIKwT17X"
      },
      "source": [
        "NOME da linguagem: **{mat}**\n",
        "\n",
        "POR: Alexandre Magno e Leonardo Scarlato\n",
        "\n",
        "\n",
        "**{mat}** consiste em uma linguagem de programação interpretada, com a finalidade de facilitar a escrita em português de operações matemáticas. Nesta linguagem, há palavras reservadas que representam operações que proximam a dialética matemática oral com o código. Assim, proporciando um espaço mais amigavél para estudos de ambas ciencias.\n",
        "\n",
        "O público alvo dessa linguagem são de jovens no estágio de desenvolvimento do estudo matemático e de programação.\n",
        "\n",
        "**{mat}** lidará com números pertencentes ao conjunto dos Racionais(Q). Contudo, na linguagem, trabalha-se com a separação entre inteiros (int) e fracionarios (float)."
      ]
    },
    {
      "cell_type": "code",
      "execution_count": 2,
      "metadata": {
        "colab": {
          "base_uri": "https://localhost:8080/"
        },
        "id": "qowVrPwCZiz_",
        "outputId": "3f254ca3-bbbc-49c9-a824-c891d3dca335"
      },
      "outputs": [
        {
          "name": "stdout",
          "output_type": "stream",
          "text": [
            "Requirement already satisfied: rply in /usr/local/lib/python3.10/dist-packages (0.7.8)\n",
            "Requirement already satisfied: appdirs in /usr/local/lib/python3.10/dist-packages (from rply) (1.4.4)\n"
          ]
        }
      ],
      "source": [
        "!pip install rply"
      ]
    },
    {
      "cell_type": "code",
      "execution_count": 6,
      "metadata": {
        "id": "xDCe4OOtS8Nz"
      },
      "outputs": [],
      "source": [
        "# Analisador Lexico\n",
        "\n",
        "from rply import LexerGenerator\n",
        "\n",
        "lg = LexerGenerator()\n",
        "\n",
        "lg.add(\"NUMBER\", r\"\\d+\")\n",
        "lg.add(\"PLUS\", r\"\\+\")\n",
        "lg.add(\"MINUS\", r\"\\-\")\n",
        "lg.add(\"MUL\", r\"\\*\")\n",
        "lg.add(\"DIV\", r\"/\")\n",
        "lg.add(\"ROOT\", r\"raiz_de\")\n",
        "lg.add(\"POW\", r\"elevado_a\")\n",
        "lg.add(\"FACT\", r\"fatorial\")\n",
        "lg.add(\"PI\", r\"pi\")\n",
        "lg.add(\"SIN\", r\"seno\")\n",
        "lg.add(\"COS\", r\"cosseno\")\n",
        "lg.add(\"TAN\", r\"tangente\")\n",
        "\n",
        "lg.add(\"INT\", r\"int\")\n",
        "lg.add(\"FLOAT\", r\"float\")\n",
        "\n",
        "lg.add('ID', r'[a-zA-z][a-zA-z0-9]*')\n",
        "lg.add('COMP','==')\n",
        "lg.add('COMP','!=')\n",
        "lg.add('COMP','>=')\n",
        "lg.add('COMP','>')\n",
        "lg.add('COMP','<=')\n",
        "lg.add('COMP','<')\n",
        "\n",
        "lg.add('EQUALS', r\"=\")\n",
        "\n",
        "lg.ignore('\\s+')\n",
        "\n",
        "lexer = lg.build()"
      ]
    },
    {
      "cell_type": "code",
      "execution_count": null,
      "metadata": {
        "id": "Jh0-pFhBZHo7"
      },
      "outputs": [],
      "source": [
        "# Analisador Sintatico\n",
        "\n",
        "# TODO Inserir classes ifElse, While\n",
        "\n",
        "from rply.token import BaseBox\n",
        "\n",
        "class Prog(BaseBox):\n",
        "    def __init__(self,decls,stmts):\n",
        "        self.decls = decls\n",
        "        self.stmts = stmts\n",
        "    \n",
        "    def accept(self, visitor):\n",
        "        visitor.visit_prog(self)\n",
        "\n",
        "class Declatations(BaseBox):\n",
        "    def __init__(self,decl,decls):\n",
        "        self.decl = decl\n",
        "        self.decls = decls\n",
        "\n",
        "    def accept(self, visitor):\n",
        "        visitor.visit_declarations(self)\n",
        "\n",
        "class Declaration(BaseBox):\n",
        "    def __init__(self,id,typee):\n",
        "        self.id = id\n",
        "        self.typee = typee\n",
        "        \n",
        "    def accept(self, visitor):\n",
        "        visitor.visit_declaration(self)\n",
        "\n",
        "class Statements(BaseBox):\n",
        "    def __init__(self,stmt,stmts):\n",
        "        self.stmt = stmt\n",
        "        self.stmts = stmts\n",
        "\n",
        "    def accept(self, visitor):\n",
        "        visitor.visit_statements(self)\n",
        "\n",
        "class Statement(BaseBox):\n",
        "    def __init__(self,cmd):\n",
        "        self.cmd = cmd\n",
        "\n",
        "    def accept(self, visitor):\n",
        "        visitor.visit_statement(self)\n",
        "\n",
        "class Atrib(BaseBox):\n",
        "    def __init__(self,id,expr):\n",
        "        self.id = id\n",
        "        self.expr = expr\n",
        "\n",
        "    def accept(self, visitor):\n",
        "        visitor.visit_atrib(self)\n",
        "\n",
        "class Expr(BaseBox):\n",
        "    def accept(self, visitor):\n",
        "        method_name = 'visit_{}'.format(self.__class__.__name__.lower())\n",
        "        visit = getattr(visitor, method_name)\n",
        "        visit(self)\n",
        "\n",
        "class Id(Expr):\n",
        "    def __init__(self, value):\n",
        "        self.value = value\n",
        "\n",
        "class Number(Expr):\n",
        "    def __init__(self, value):\n",
        "        self.value = value\n",
        "\n",
        "class BinaryOp(Expr):\n",
        "    def __init__(self, left, right):\n",
        "        self.left = left\n",
        "        self.right = right\n",
        "\n",
        "class Add(BinaryOp):\n",
        "    pass\n",
        "\n",
        "class Sub(BinaryOp):\n",
        "    pass\n",
        "\n",
        "class Mul(BinaryOp):\n",
        "    pass\n",
        "\n",
        "class Div(BinaryOp):\n",
        "    pass\n",
        "\n",
        "class Pow(BinaryOp):\n",
        "    pass\n",
        "\n",
        "class Root(BinaryOp):\n",
        "    pass\n",
        "\n",
        "class Fact(BinaryOp):\n",
        "    pass\n",
        "\n",
        "class Sin(BinaryOp):\n",
        "    pass\n",
        "\n",
        "class Cos(BinaryOp):\n",
        "    pass\n",
        "\n",
        "class Tan(BinaryOp):\n",
        "    pass"
      ]
    },
    {
      "cell_type": "code",
      "execution_count": null,
      "metadata": {
        "id": "bTShKu3wZSXB"
      },
      "outputs": [],
      "source": []
    }
  ],
  "metadata": {
    "colab": {
      "include_colab_link": true,
      "provenance": []
    },
    "kernelspec": {
      "display_name": "Python 3",
      "name": "python3"
    },
    "language_info": {
      "name": "python"
    }
  },
  "nbformat": 4,
  "nbformat_minor": 0
}
